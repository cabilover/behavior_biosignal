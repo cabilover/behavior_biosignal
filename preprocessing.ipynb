{
 "cells": [
  {
   "cell_type": "code",
   "execution_count": 43,
   "metadata": {},
   "outputs": [],
   "source": [
    "import os\n",
    "import pandas as pd\n",
    "import numpy\n",
    "import pickle\n",
    "import scipy as sp\n",
    "import matplotlib.pylab as plt\n",
    "import seaborn as sns\n",
    "import statsmodels.api as sm\n",
    "import missingno as msno\n",
    "import sklearn as sk\n",
    "from sklearn.impute import SimpleImputer\n",
    "from sklearn.preprocessing import OneHotEncoder"
   ]
  },
  {
   "cell_type": "code",
   "execution_count": 2,
   "metadata": {},
   "outputs": [],
   "source": [
    "type_dic = {0:'demo', 1:'as',2:'hrv',3:'time',4:'crf'}\n",
    "session = ['ses-01','ses-02','ses-03','ses-04']"
   ]
  },
  {
   "cell_type": "code",
   "execution_count": 3,
   "metadata": {},
   "outputs": [],
   "source": [
    "\n",
    "with open('vrabes_extracted.pkl','rb') as f:\n",
    "    extracted = pickle.load(f)"
   ]
  },
  {
   "cell_type": "code",
   "execution_count": 4,
   "metadata": {},
   "outputs": [],
   "source": [
    "ses_01_as = extracted['ses-01'][1]\n",
    "ses_01_hrv = extracted['ses-01'][2]\n",
    "ses_01_time = extracted['ses-01'][3]\n",
    "ses_01_crf = extracted['ses-01'][4]\n",
    "ses_01_demo = extracted['ses-01'][0]\n",
    "\n",
    "ses_02_as = extracted['ses-02'][1]\n",
    "ses_02_hrv = extracted['ses-02'][2]\n",
    "ses_02_time = extracted['ses-02'][3]\n",
    "ses_02_crf = extracted['ses-02'][4]\n",
    "ses_02_demo = extracted['ses-02'][0]\n",
    "\n",
    "ses_03_as = extracted['ses-03'][1]\n",
    "ses_03_hrv = extracted['ses-03'][2]\n",
    "ses_03_time = extracted['ses-03'][3]\n",
    "ses_03_crf = extracted['ses-03'][4]\n",
    "ses_03_demo = extracted['ses-03'][0]\n",
    "\n",
    "ses_04_as = extracted['ses-04'][1]\n",
    "ses_04_hrv = extracted['ses-04'][2]\n",
    "ses_04_time = extracted['ses-04'][3]\n",
    "ses_04_crf = extracted['ses-04'][4]\n",
    "ses_04_demo = extracted['ses-04'][0]"
   ]
  },
  {
   "cell_type": "code",
   "execution_count": 5,
   "metadata": {},
   "outputs": [],
   "source": [
    "def missing_finder (extracted):\n",
    "    type_dic = {0:'demo', 1:'as',2:'hrv',3:'time',4:'crf'}\n",
    "    session = ['ses-01','ses-02','ses-03','ses-04']\n",
    "    result = {}\n",
    "    for ses in session:\n",
    "        sess = extracted[ses]\n",
    "        for type in type_dic.keys():\n",
    "            sess_type = sess[type]\n",
    "            result['_'.join([ses,type_dic[type]])] = sess_type.loc[sess_type.isnull().any(axis=1),:]\n",
    "    return result"
   ]
  },
  {
   "cell_type": "code",
   "execution_count": 6,
   "metadata": {},
   "outputs": [],
   "source": [
    "missing = missing_finder(extracted)"
   ]
  },
  {
   "cell_type": "code",
   "execution_count": 7,
   "metadata": {},
   "outputs": [],
   "source": [
    "# 1. Find the retire part, get the position. (return 1)\n",
    "# 2. Create a dataframe that converts the retire part into integer \n",
    "# 3. Replace nan with simpleimputer median(return2)\n",
    "def prepro_as (df):\n",
    "    df_r = df.set_index('ID')\n",
    "    retire = []\n",
    "    for i in df_r.index:\n",
    "        ses = df_r.loc[i,:]    \n",
    "        for val in ses:        \n",
    "            val_s = str(val)\n",
    "            if 'retire' in val_s:\n",
    "                ix_retire = ses.loc[ses==val].index\n",
    "                df_r.loc[i,ix_retire] = val.split('(')[0]\n",
    "                retire.append((i,ix_retire))                \n",
    "            else:pass\n",
    "    imputer = SimpleImputer(strategy='median')\n",
    "    df_r = pd.DataFrame(imputer.fit_transform(df_r), index = df_r.index, columns = df_r.columns)\n",
    "    return df_r\n",
    "\n",
    "    \n"
   ]
  },
  {
   "cell_type": "code",
   "execution_count": 8,
   "metadata": {},
   "outputs": [],
   "source": [
    "# 1. drop 'HR Max-Min\" column\n",
    "# 2. Replace nan with simpleimputer median(return)\n",
    "def prepro_hrv (df):\n",
    "    df_r = df.set_index('ID')\n",
    "    df_r = df_r.loc[:,~df_r.columns.str.contains('Max-Min')]\n",
    "    imputer = SimpleImputer(strategy='median')\n",
    "    df_r = pd.DataFrame(imputer.fit_transform(df_r), index = df_r.index, columns = df_r.columns)\n",
    "    return df_r\n"
   ]
  },
  {
   "cell_type": "code",
   "execution_count": 37,
   "metadata": {},
   "outputs": [],
   "source": [
    "# 1. Extract column containing 'vit', column containing 'BMI', 'SUM', 'HADS_a', 'HADS_d'\n",
    "# 2. Replace nan with simpleimputer median(return)\n",
    "def prepro_crf(df):    \n",
    "    id = df.loc[:,['ID']]\n",
    "    vit = df.loc[:,df.columns.str.contains('vit')]\n",
    "    bmi = df.loc[:,df.columns.str.contains('BMI')]\n",
    "    sum = df.loc[:,df.columns.str.contains('SUM')]\n",
    "    hadsa = df.loc[:,df.columns.str.contains('HADS_a')]\n",
    "    hadsd = df.loc[:,df.columns.str.contains('HADS_d')]    \n",
    "    df_r = vit.join(bmi).join(sum).join(hadsa).join(hadsd)    \n",
    "    imputer = SimpleImputer(strategy='median')\n",
    "    df_r = pd.DataFrame(imputer.fit_transform(df_r), index = df_r.index, columns = df_r.columns)    \n",
    "    df_r = df_r.join(id)\n",
    "    df_r = df_r.set_index('ID')\n",
    "    return df_r\n",
    "\n"
   ]
  },
  {
   "cell_type": "code",
   "execution_count": 38,
   "metadata": {},
   "outputs": [],
   "source": [
    "def prepro_demo (df):\n",
    "    id = df.loc[:,['ID']]\n",
    "    group = df.loc[:,df.columns.str.contains('group')]\n",
    "    group = group.iloc[:,0].apply(lambda x: x-1)\n",
    "    age = df.loc[:,df.columns.str.contains('age_y')]\n",
    "    sex = df.loc[:,df.columns.str.contains('sex')]\n",
    "    eduy = df.loc[:,df.columns.str.contains('edu_y')]\n",
    "    smok = df.loc[:,df.columns.str.contains('smok1')]\n",
    "    alcohol = df.loc[:,df.columns.str.contains('alcohol')]\n",
    "    marriage = df.loc[:,df.columns.str.contains('marriage')]    \n",
    "    df_r = id.join(group).join(age).join(sex).join(eduy).join(smok).join(alcohol).join(marriage)\n",
    "    df_r = df_r.set_index('ID')\n",
    "    return df_r"
   ]
  },
  {
   "cell_type": "code",
   "execution_count": 39,
   "metadata": {},
   "outputs": [],
   "source": [
    "def prepro_gen(dic):\n",
    "    type_dic = {0:'demo', 1:'as',2:'hrv',3:'time',4:'crf'}\n",
    "    session = ['ses-01','ses-02','ses-03','ses-04']\n",
    "    r_dic = {}\n",
    "    for i in session:\n",
    "        for t in type_dic.keys():\n",
    "            if t == 0:\n",
    "                r_dic['_'.join([i,type_dic[t]])] = prepro_demo(dic[i][t])\n",
    "            elif t == 1:\n",
    "                r_dic['_'.join([i,type_dic[t]])] = prepro_as(dic[i][t])\n",
    "            elif t == 2:\n",
    "                r_dic['_'.join([i,type_dic[t]])] = prepro_hrv(dic[i][t])\n",
    "            elif t == 4:\n",
    "                r_dic['_'.join([i,type_dic[t]])] = prepro_crf(dic[i][t])\n",
    "    return r_dic\n",
    "\n",
    "    "
   ]
  },
  {
   "cell_type": "code",
   "execution_count": 40,
   "metadata": {},
   "outputs": [],
   "source": [
    "preprocessed = prepro_gen(extracted)\n",
    "with open('vrabes_preprocessed.pkl','wb') as f:\n",
    "    pickle.dump(preprocessed,f)  "
   ]
  }
 ],
 "metadata": {
  "kernelspec": {
   "display_name": "main",
   "language": "python",
   "name": "python3"
  },
  "language_info": {
   "codemirror_mode": {
    "name": "ipython",
    "version": 3
   },
   "file_extension": ".py",
   "mimetype": "text/x-python",
   "name": "python",
   "nbconvert_exporter": "python",
   "pygments_lexer": "ipython3",
   "version": "3.9.15 (main, Nov 24 2022, 14:39:17) [MSC v.1916 64 bit (AMD64)]"
  },
  "orig_nbformat": 4,
  "vscode": {
   "interpreter": {
    "hash": "eeee73005f2d7c442ce01edc53b42ba7e639fc43199e10e3461fac3e3675672b"
   }
  }
 },
 "nbformat": 4,
 "nbformat_minor": 2
}
