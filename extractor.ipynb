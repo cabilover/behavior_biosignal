{
 "cells": [
  {
   "cell_type": "code",
   "execution_count": 82,
   "metadata": {},
   "outputs": [],
   "source": [
    "raw_path = os.path.abspath(r'C:\\Users\\USER\\Guro_Psy_KJH Dropbox\\1.Projects\\1_anxiety_VR\\3_Data\\4_CRF')\n",
    "filename = ['VRABES_CRF_form.xlsx', 'VRABES_Demographic.xlsx']\n",
    "sheet = ['baseline','normal','anxiety','Demographic']\n",
    "drop = ['no','code','name']\n",
    "# header = 3, index_col = 'ID'\n"
   ]
  },
  {
   "cell_type": "code",
   "execution_count": 162,
   "metadata": {},
   "outputs": [],
   "source": [
    "with open('vrabes_beh_dict.pkl','rb') as f:\n",
    "    data = pickle.load(f)\n",
    "raw_df = pd.DataFrame(data).transpose()"
   ]
  },
  {
   "cell_type": "code",
   "execution_count": 91,
   "metadata": {},
   "outputs": [],
   "source": [
    "def crf_pre (data):\n",
    "    data.drop(data.columns[data.columns.str.contains('Unnamed')],axis =1 , inplace = True)\n",
    "    data.drop([col for col in data.columns if any([x for x in drop if x == col])], axis=1, inplace=True)\n",
    "    data.dropna(subset = ['ID'], inplace = True)\n",
    "    return data"
   ]
  },
  {
   "cell_type": "code",
   "execution_count": 168,
   "metadata": {},
   "outputs": [],
   "source": [
    "def gen_crf (raw_path):\n",
    "    demo = pd.read_excel(os.path.join(raw_path,'VRABES_Demographic.xlsx'), sheet_name= 'Demographic', header = 3, index_col= 'no')\n",
    "    ses_01_all = pd.read_excel(os.path.join(raw_path,'VRABES_CRF_form.xlsx'), sheet_name= 'baseline', header = 3, index_col= 'no')\n",
    "    ses_02_nor = pd.read_excel(os.path.join(raw_path,'VRABES_CRF_form.xlsx'), sheet_name= 'normal', header = 3, index_col= 'no')\n",
    "    anx = pd.read_excel(os.path.join(raw_path,'VRABES_CRF_form.xlsx'), sheet_name= 'anxiety', header = 3, index_col= 'no')\n",
    "\n",
    "    demo = crf_pre(demo)\n",
    "    ses_01_all = crf_pre(ses_01_all)\n",
    "    ses_02_nor = crf_pre(ses_02_nor)\n",
    "    anx = crf_pre(anx)\n",
    "\n",
    "    i_ses02 = anx.columns.get_loc('visit_2_d')\n",
    "    i_ses03 = anx.columns.get_loc('visit_3_d')\n",
    "    i_ses04 = anx.columns.get_loc('visit_4_d')\n",
    "\n",
    "    ses_02_anx = pd.concat([anx.iloc[:,0],anx.iloc[:,1:i_ses03]], axis=1)\n",
    "    ses_03_anx = pd.concat([anx.iloc[:,0],anx.iloc[:,i_ses03:i_ses04]], axis=1)\n",
    "    ses_04_anx = pd.concat([anx.iloc[:,0],anx.iloc[:,i_ses04:]], axis=1)\n",
    "\n",
    "    ses_01_all.rename(columns = lambda x:'ses_01_' + x, inplace=True)\n",
    "    ses_02_nor.rename(columns = lambda x:'ses_02_' + x, inplace=True)\n",
    "    ses_02_anx.rename(columns = lambda x:'ses_02_' + x, inplace=True)\n",
    "    ses_03_anx.rename(columns = lambda x:'ses_03_' + x, inplace=True)\n",
    "    ses_04_anx.rename(columns = lambda x:'ses_04_' + x, inplace=True)\n",
    "\n",
    "    ses_01_all['ses_01_ID'] = ses_01_all.iloc[:,0].apply(lambda x:x+'_ses-01')\n",
    "    ses_02_nor['ses_02_ID'] = ses_02_nor.iloc[:,0].apply(lambda x:x+'_ses-02')\n",
    "    ses_02_anx['ses_02_ID'] = ses_02_anx.iloc[:,0].apply(lambda x:x+'_ses-02')\n",
    "    ses_03_anx['ses_03_ID'] = ses_03_anx.iloc[:,0].apply(lambda x:x+'_ses-03')\n",
    "    ses_04_anx['ses_04_ID'] = ses_04_anx.iloc[:,0].apply(lambda x:x+'_ses-04')\n",
    "\n",
    "    ses_01_all.rename(columns = {'ses_01_ID':'ID'}, inplace=True)\n",
    "    ses_02_nor.rename(columns = {'ses_02_ID':'ID'}, inplace=True)\n",
    "    ses_02_anx.rename(columns = {'ses_02_ID':'ID'}, inplace=True)\n",
    "    ses_03_anx.rename(columns = {'ses_03_ID':'ID'}, inplace=True)\n",
    "    ses_04_anx.rename(columns = {'ses_04_ID':'ID'}, inplace=True)\n",
    "\n",
    "    return demo, ses_01_all, ses_02_nor, ses_02_anx, ses_03_anx, ses_04_anx\n"
   ]
  },
  {
   "cell_type": "code",
   "execution_count": null,
   "metadata": {},
   "outputs": [],
   "source": [
    "demo, ses_01_all, ses_02_nor, ses_02_anx, ses_03_anx, ses_04_anx = gen_crf(raw_path)"
   ]
  },
  {
   "cell_type": "code",
   "execution_count": 185,
   "metadata": {},
   "outputs": [],
   "source": [
    "raw_df['ID'] = raw_df.index\n",
    "test = pd.merge(raw_df,ses_01_all, how='left', on ='ID')\n",
    "test2 = pd.merge(test,ses_02_nor, how='left', on ='ID')\n",
    "test3 = pd.merge(test2, ses_02_anx,how='left', on ='ID')\n",
    "test4 = pd.merge(test3, ses_03_anx,how='left', on ='ID')\n",
    "test5 = pd.merge(test4, ses_02_anx,how='left', on ='ID')"
   ]
  },
  {
   "cell_type": "code",
   "execution_count": 49,
   "metadata": {},
   "outputs": [],
   "source": [
    "def ses_per_sub (raw_df):        \n",
    "    ses_dict = {}\n",
    "    ses_dict2 = {}\n",
    "    for i in raw_df.index:\n",
    "        sub = i.split('_')[0]\n",
    "        ses = i.split('_')[1]\n",
    "        if sub in ses_dict.keys():\n",
    "            ses_dict[sub] = ses_dict[sub]+1\n",
    "        else: ses_dict[sub] = 1\n",
    "    \n",
    "    for a in raw_df.index:\n",
    "        sub = a.split('_')[0]\n",
    "        ses_dict2[a] = ses_dict[sub]    \n",
    "\n",
    "    return ses_dict2"
   ]
  },
  {
   "cell_type": "code",
   "execution_count": 51,
   "metadata": {},
   "outputs": [],
   "source": [
    "def time_ext (raw_df):\n",
    "    cols = []    \n",
    "    for col in raw_df.columns:\n",
    "        if col.split('_')[-1] == 'Start Time':\n",
    "            cols.append(col)\n",
    "        else: pass\n",
    "    return cols "
   ]
  },
  {
   "cell_type": "code",
   "execution_count": 54,
   "metadata": {},
   "outputs": [],
   "source": [
    "def as_ext(raw_df):\n",
    "    cols = []\n",
    "    for col in raw_df.columns:\n",
    "        if \"AnxScr\" in col.split('_'):\n",
    "            cols.append(col)\n",
    "        else: pass\n",
    "    return cols"
   ]
  },
  {
   "cell_type": "code",
   "execution_count": 57,
   "metadata": {},
   "outputs": [],
   "source": [
    "def hrv_result(raw_df):\n",
    "    cols = []\n",
    "    for col in raw_df.columns:\n",
    "        if \"Result\" in col.split('_'):\n",
    "            cols.append(col)\n",
    "        else: pass\n",
    "    return cols"
   ]
  }
 ],
 "metadata": {
  "kernelspec": {
   "display_name": "main",
   "language": "python",
   "name": "python3"
  },
  "language_info": {
   "codemirror_mode": {
    "name": "ipython",
    "version": 3
   },
   "file_extension": ".py",
   "mimetype": "text/x-python",
   "name": "python",
   "nbconvert_exporter": "python",
   "pygments_lexer": "ipython3",
   "version": "3.9.15"
  },
  "orig_nbformat": 4,
  "vscode": {
   "interpreter": {
    "hash": "eeee73005f2d7c442ce01edc53b42ba7e639fc43199e10e3461fac3e3675672b"
   }
  }
 },
 "nbformat": 4,
 "nbformat_minor": 2
}
