{
 "cells": [
  {
   "cell_type": "code",
   "execution_count": 1,
   "metadata": {},
   "outputs": [],
   "source": [
    "import os\n",
    "from glob import glob\n",
    "import pandas as pd"
   ]
  },
  {
   "cell_type": "code",
   "execution_count": 2,
   "metadata": {},
   "outputs": [],
   "source": [
    "# path\n",
    "path = os.path.abspath(r'C:\\Users\\USER\\Guro_Psy_KJH Dropbox\\1.Projects\\1_anxiety_VR\\3_Data')\n",
    "data_path = os.path.join(path,'4_CRF','CRF_20230811.xlsx')\n",
    "sheet_name = '창의도전'"
   ]
  },
  {
   "cell_type": "code",
   "execution_count": 3,
   "metadata": {},
   "outputs": [],
   "source": [
    "# sub_dictionary\n",
    "# CRF=\"C:\\Users\\USER\\Guro_Psy_KJH Dropbox\\1.Projects\\1_anxiety_VR\\3_Data\\4_CRF\\(혁신형, 창의도전)_CRF(20230811).xlsx\"\n",
    "# key: subject number\n",
    "# value: list [group, number of session]\n",
    "\n",
    "sub_dic = {'sub-0001':[0,2],'sub-0002':[0,2],'sub-0003':[0,2],'sub-0004':[0,2],'sub-0005':[0,1],'sub-0006':[0,2],\n",
    "       'sub-0008':[0,2],'sub-0011':[0,2],'sub-0013':[0,2],'sub-0014':[0,2],'sub-0020':[0,2],'sub-0022':[0,2],\n",
    "       'sub-0024':[0,2],'sub-0025':[0,2],'sub-0026':[0,2],'sub-0029':[0,2],'sub-0030':[0,1],'sub-0031':[0,2],\n",
    "       'sub-0034':[0,2],'sub-0038':[0,2],'sub-0044':[0,2],'sub-0046':[0,2],'sub-0048':[0,2],'sub-0050':[0,2],\n",
    "       'sub-0051':[0,2],'sub-0052':[1,1],'sub-0053':[0,2],'sub-0054':[0,2],'sub-0055':[0,2],'sub-0058':[0,2],\n",
    "       'sub-0059':[0,1],\n",
    "       'sub-0007':[1,4],'sub-0009':[1,4],'sub-0012':[1,4],'sub-0016':[1,4],'sub-0017':[1,4],'sub-0018':[1,4],\n",
    "       'sub-0021':[1,4],'sub-0023':[1,4],'sub-0028':[1,4],'sub-0032':[1,4],'sub-0033':[1,4],'sub-0035':[1,4],\n",
    "       'sub-0036':[1,4],'sub-0037':[1,4],'sub-0039':[1,4],'sub-0040':[1,4],'sub-0041':[1,4],'sub-0042':[1,4],\n",
    "       'sub-0043':[1,4],'sub-0045':[1,4],'sub-0047':[1,4],'sub-0049':[1,4],'sub-0057':[1,4],'sub-0061':[1,1],\n",
    "       'sub-0062':[1,4],'sub-0063':[1,4]}\n",
    "\n",
    "cols = ['age','sex','marriage','edu_y','px_med_d','smok_1','alcohol_1','group','pdss',\n",
    "       'lsas_f', 'lsas_a', 'gad', 'hads_a', 'hads_d', 'ius',\n",
    "       'asi', 'bfne', 'pswq', 'ssq']"
   ]
  },
  {
   "cell_type": "code",
   "execution_count": 4,
   "metadata": {},
   "outputs": [],
   "source": [
    "def modify_CRF(data_path,sub_dic, cols,sheet_name):\n",
    "    \"\"\"\n",
    "    Generates a DataFrame with a modified structure based on specific criteria. \n",
    "    The function reads the original Excel file, processes the data based on \n",
    "    the given 'sub_dic', and restructures the DataFrame according to the \n",
    "    specified columns 'cols' and session numbers within 'sub_dic'.\n",
    "\n",
    "    criteria\n",
    "\n",
    "    1. data에서 cols의 8번째 까지 값들과 같은 column의 경우는 data의 index 값과 df의 index의 앞부분 (sub-00xx) 가 같으면 \n",
    "    df에 data와 같은 값이 들어가도록 함\n",
    "    2. data의 column들 중 cols에 해당하는 경우,(척도들) data의 index 값과 df의 index의 앞부분 (sub-00xx)이 같고 \n",
    "    coulmns의 '_' 마지막 위치를 기준으로 같은 session의 값을 입력한다.\n",
    "\n",
    "    Args:\n",
    "    - data_path (string): Path to the original Excel file\n",
    "    - sub_dic (dict): Dictionary with keys as subjects and values as lists containing session information\n",
    "    - cols (list): List of column names to be used in the new DataFrame\n",
    "    - sheet_name (string): Name of the Excel sheet to read\n",
    "\n",
    "    Returns:\n",
    "    - df (DataFrame): Modified DataFrame with structure based on 'sub_dic' and 'cols'\n",
    "\n",
    "    Reference:\n",
    "    - ref3: Information and location by file\n",
    "    \"\"\"\n",
    "    # load original file\n",
    "    data = pd.read_excel((data_path), sheet_name= sheet_name, index_col=0)\n",
    "\n",
    "    # maker new df frame, with index from sub_dic\n",
    "    new_index =[]\n",
    "    for key, value in sub_dic.items():\n",
    "        for i in range(1, value[1] + 1):\n",
    "            new_index.append(f\"{key}_ses-0{i}\")\n",
    "\n",
    "    # 새로운 DataFrame 생성\n",
    "    df = pd.DataFrame(index=new_index, columns=cols)\n",
    "\n",
    "    # data DataFrame에서 값 복사\n",
    "    for idx in df.index:\n",
    "        sub_key = idx.split('_ses')[0]\n",
    "        ses_num = int(idx.split('-')[-1])\n",
    "        if sub_key in sub_dic.keys() and sub_dic[sub_key][1] >= ses_num:\n",
    "            # 처음 8개의 열은 동일한 값으로 채웁니다.\n",
    "            df.loc[idx, cols[:8]] = data.loc[sub_key, cols[:8]]\n",
    "            # 나머지 열에 대해서는 특정 조건을 만족하는 경우에 값을 복사합니다.\n",
    "            for col in data.columns:\n",
    "                position = col.rfind('_')\n",
    "                if col[:position] in cols:                \n",
    "                    if col.split('_')[-1] == str(ses_num):\n",
    "                        df.loc[idx, col[:position] ] = data.loc[sub_key, col]\n",
    "    return df\n",
    "\n",
    "\n"
   ]
  },
  {
   "cell_type": "code",
   "execution_count": 5,
   "metadata": {},
   "outputs": [],
   "source": [
    "df = modify_CRF(data_path, sub_dic, cols, sheet_name)\n",
    "df.to_csv(os.path.join(path,'CRF_230822.csv'))\n"
   ]
  }
 ],
 "metadata": {
  "kernelspec": {
   "display_name": "main",
   "language": "python",
   "name": "python3"
  },
  "language_info": {
   "codemirror_mode": {
    "name": "ipython",
    "version": 3
   },
   "file_extension": ".py",
   "mimetype": "text/x-python",
   "name": "python",
   "nbconvert_exporter": "python",
   "pygments_lexer": "ipython3",
   "version": "3.9.15"
  },
  "orig_nbformat": 4
 },
 "nbformat": 4,
 "nbformat_minor": 2
}
