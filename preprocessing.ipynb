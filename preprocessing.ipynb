{
 "cells": [
  {
   "cell_type": "code",
   "execution_count": 110,
   "metadata": {},
   "outputs": [],
   "source": [
    "import os\n",
    "import pandas as pd\n",
    "import numpy\n",
    "import pickle\n",
    "import scipy as sp\n",
    "import matplotlib.pylab as plt\n",
    "import seaborn as sns\n",
    "import statsmodels.api as sm\n",
    "import missingno as msno\n",
    "import sklearn as sk\n",
    "from sklearn.impute import SimpleImputer"
   ]
  },
  {
   "cell_type": "code",
   "execution_count": 19,
   "metadata": {},
   "outputs": [],
   "source": [
    "type_dic = {0:'as',1:'hrv',2:'time',3:'crf'}\n",
    "session = ['ses-01','ses-02','ses-03','ses-04']"
   ]
  },
  {
   "cell_type": "code",
   "execution_count": 11,
   "metadata": {},
   "outputs": [],
   "source": [
    "\n",
    "with open('vrabes_extracted.pkl','rb') as f:\n",
    "    extracted = pickle.load(f)"
   ]
  },
  {
   "cell_type": "code",
   "execution_count": 124,
   "metadata": {},
   "outputs": [],
   "source": [
    "ses_01_as = extracted['ses-01'][0]\n",
    "ses_01_hrv = extracted['ses-01'][1]\n",
    "ses_01_time = extracted['ses-01'][2]\n",
    "ses_01_crf = extracted['ses-01'][3]\n",
    "\n",
    "\n",
    "ses_02_as = extracted['ses-02'][0]\n",
    "ses_02_hrv = extracted['ses-02'][1]\n",
    "ses_02_time = extracted['ses-02'][2]\n",
    "ses_02_crf = extracted['ses-02'][3]\n",
    "\n",
    "\n",
    "ses_03_as = extracted['ses-03'][0]\n",
    "ses_03_hrv = extracted['ses-03'][1]\n",
    "ses_03_time = extracted['ses-03'][2]\n",
    "ses_03_crf = extracted['ses-03'][3]\n",
    "\n",
    "ses_04_as = extracted['ses-04'][0]\n",
    "ses_04_hrv = extracted['ses-04'][1]\n",
    "ses_04_time = extracted['ses-04'][2]\n",
    "ses_04_crf = extracted['ses-04'][3]\n"
   ]
  },
  {
   "cell_type": "code",
   "execution_count": 39,
   "metadata": {},
   "outputs": [],
   "source": [
    "def missing_finder (extracted):\n",
    "    type_dic = {0:'as',1:'hrv',2:'time',3:'crf'}\n",
    "    session = ['ses-01','ses-02','ses-03','ses-04']\n",
    "    result = {}\n",
    "    for ses in session:\n",
    "        sess = extracted[ses]\n",
    "        for type in type_dic.keys():\n",
    "            sess_type = sess[type]\n",
    "            result['_'.join([ses,type_dic[type]])] = sess_type.loc[sess_type.isnull().any(axis=1),:]\n",
    "    return result"
   ]
  },
  {
   "cell_type": "code",
   "execution_count": 120,
   "metadata": {},
   "outputs": [],
   "source": [
    "# 1. Find the retire part, get the position. (return 1)\n",
    "# 2. Create a dataframe that converts the retire part into integer \n",
    "# 3. Replace nan with simpleimputer median(return2)\n",
    "def prepro_as (df):\n",
    "    df_r = df.set_index('ID')\n",
    "    retire = []\n",
    "    for i in df_r.index:\n",
    "        ses = df_r.loc[i,:]    \n",
    "        for val in ses:        \n",
    "            val_s = str(val)\n",
    "            if 'retire' in val_s:\n",
    "                ix_retire = ses.loc[ses==val].index\n",
    "                df_r.loc[i,ix_retire] = val.split('(')[0]\n",
    "                retire.append((i,ix_retire))                \n",
    "            else:pass\n",
    "    imputer = SimpleImputer(strategy='median')\n",
    "    df_r = pd.DataFrame(imputer.fit_transform(df_r), index = df_r.index, columns = df_r.columns)\n",
    "    return retire, df_r\n",
    "\n",
    "    \n"
   ]
  }
 ],
 "metadata": {
  "kernelspec": {
   "display_name": "main",
   "language": "python",
   "name": "python3"
  },
  "language_info": {
   "codemirror_mode": {
    "name": "ipython",
    "version": 3
   },
   "file_extension": ".py",
   "mimetype": "text/x-python",
   "name": "python",
   "nbconvert_exporter": "python",
   "pygments_lexer": "ipython3",
   "version": "3.9.15"
  },
  "orig_nbformat": 4,
  "vscode": {
   "interpreter": {
    "hash": "eeee73005f2d7c442ce01edc53b42ba7e639fc43199e10e3461fac3e3675672b"
   }
  }
 },
 "nbformat": 4,
 "nbformat_minor": 2
}
