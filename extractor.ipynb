{
 "cells": [
  {
   "cell_type": "code",
   "execution_count": 2,
   "metadata": {},
   "outputs": [],
   "source": [
    "import pandas as pd\n",
    "import numpy\n",
    "import pickle\n"
   ]
  },
  {
   "cell_type": "code",
   "execution_count": null,
   "metadata": {},
   "outputs": [],
   "source": [
    "with open('vrabes_beh_dict.pkl','rb') as f:\n",
    "    data = pickle.load(f)\n",
    "data"
   ]
  },
  {
   "cell_type": "code",
   "execution_count": null,
   "metadata": {},
   "outputs": [],
   "source": [
    "data"
   ]
  },
  {
   "cell_type": "code",
   "execution_count": 7,
   "metadata": {},
   "outputs": [],
   "source": [
    "def ses_per_sub ():\n",
    "    id = data.keys()\n",
    "    ses_dict = {}\n",
    "    for i in id:\n",
    "        sub = i.split('_')[0]\n",
    "        ses = i.split('_')[1]\n",
    "        if sub in ses_dict.keys():\n",
    "            ses_dict[sub] = ses_dict[sub]+1\n",
    "        else: ses_dict[sub] = 1\n",
    "    return ses_dict"
   ]
  },
  {
   "cell_type": "code",
   "execution_count": 8,
   "metadata": {},
   "outputs": [],
   "source": [
    "def num_of_file ():\n",
    "    num_f_dict ={}\n",
    "    for key in data.keys():\n",
    "        num = len(data[key])\n",
    "        num_f_dict[key] = num\n",
    "    return num_f_dict\n"
   ]
  },
  {
   "cell_type": "code",
   "execution_count": 11,
   "metadata": {},
   "outputs": [],
   "source": [
    "def time_ext ():\n",
    "    hrv_time = {}\n",
    "    for id in data.keys():\n",
    "        hrv_time_id = {}        \n",
    "        for var in data[id].keys():\n",
    "            if var.split('_')[-1] == 'Start Time':\n",
    "                val = data[id][var]\n",
    "                hrv_time_id[var]=val\n",
    "            else:pass\n",
    "        hrv_time[id] = hrv_time_id\n",
    "    return hrv_time "
   ]
  },
  {
   "cell_type": "code",
   "execution_count": 13,
   "metadata": {},
   "outputs": [],
   "source": [
    "def as_ext():\n",
    "    anx_score = {}\n",
    "    for id in data.keys():\n",
    "        anx_score_id = {}        \n",
    "        for var in data[id].keys():\n",
    "            if \"AnxScr\" in var.split('_'):\n",
    "                val = data[id][var]\n",
    "                anx_score_id[var]=val\n",
    "            else:pass\n",
    "        anx_score[id] = anx_score_id\n",
    "    return anx_score "
   ]
  },
  {
   "cell_type": "code",
   "execution_count": 15,
   "metadata": {},
   "outputs": [],
   "source": [
    "def hrv_result():\n",
    "    hrv_res = {}\n",
    "    for id in data.keys():\n",
    "        hrv_res_id = {}        \n",
    "        for var in data[id].keys():\n",
    "            if \"Result\" in var.split('_'):\n",
    "                val = data[id][var]\n",
    "                hrv_res_id[var]=val\n",
    "            else:pass\n",
    "        hrv_res[id] = hrv_res_id\n",
    "    return hrv_res "
   ]
  },
  {
   "cell_type": "code",
   "execution_count": 33,
   "metadata": {},
   "outputs": [],
   "source": [
    "x = num_of_file()\n",
    "x_df = pd.DataFrame(data = x.values(), index = x.keys(), columns = ['num_file'])\n",
    "def find_problem_ses(x):    \n",
    "    if x == 428:\n",
    "        return 0\n",
    "    else: return 1 "
   ]
  },
  {
   "cell_type": "code",
   "execution_count": 32,
   "metadata": {},
   "outputs": [
    {
     "data": {
      "text/plain": [
       "0    428\n",
       "Name: num_file, dtype: int64"
      ]
     },
     "execution_count": 32,
     "metadata": {},
     "output_type": "execute_result"
    }
   ],
   "source": [
    "x_df['num_file'].mode()"
   ]
  },
  {
   "cell_type": "code",
   "execution_count": 35,
   "metadata": {},
   "outputs": [
    {
     "data": {
      "text/plain": [
       "<bound method IndexOpsMixin.tolist of Index(['sub-0007_ses-03', 'sub-0008_ses-01', 'sub-0009_ses-03',\n",
       "       'sub-0010_ses-01', 'sub-0010_ses-03', 'sub-0011_ses-01',\n",
       "       'sub-0012_ses-01', 'sub-0013_ses-01', 'sub-0019_ses-01',\n",
       "       'sub-0032_ses-02', 'sub-0037_ses-01', 'sub-0039_ses-02',\n",
       "       'sub-0062_ses-01'],\n",
       "      dtype='object')>"
      ]
     },
     "execution_count": 35,
     "metadata": {},
     "output_type": "execute_result"
    }
   ],
   "source": [
    "test_df = x_df\n",
    "test_df['pr_ses'] = test_df['num_file'].apply(find_problem_ses)\n",
    "err_id = test_df.index[(test_df['pr_ses']==1)]\n",
    "err_list = err_id.to_list\n",
    "err_list"
   ]
  }
 ],
 "metadata": {
  "kernelspec": {
   "display_name": "main",
   "language": "python",
   "name": "python3"
  },
  "language_info": {
   "codemirror_mode": {
    "name": "ipython",
    "version": 3
   },
   "file_extension": ".py",
   "mimetype": "text/x-python",
   "name": "python",
   "nbconvert_exporter": "python",
   "pygments_lexer": "ipython3",
   "version": "3.9.15"
  },
  "orig_nbformat": 4,
  "vscode": {
   "interpreter": {
    "hash": "eeee73005f2d7c442ce01edc53b42ba7e639fc43199e10e3461fac3e3675672b"
   }
  }
 },
 "nbformat": 4,
 "nbformat_minor": 2
}
