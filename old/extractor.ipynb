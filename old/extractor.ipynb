{
 "cells": [
  {
   "cell_type": "code",
   "execution_count": 1,
   "metadata": {},
   "outputs": [],
   "source": [
    "import os\n",
    "import pandas as pd\n",
    "import numpy\n",
    "import pickle"
   ]
  },
  {
   "cell_type": "code",
   "execution_count": 2,
   "metadata": {},
   "outputs": [],
   "source": [
    "with open('vrabes_beh_dict.pkl','rb') as f:\n",
    "    total = pickle.load(f)"
   ]
  },
  {
   "cell_type": "code",
   "execution_count": 3,
   "metadata": {},
   "outputs": [],
   "source": [
    "def ses_per_sub (df):        \n",
    "    ses_dict = {}\n",
    "    ses_dict2 = {}\n",
    "    for i in df['ID']:\n",
    "        sub = i.split('_')[0]\n",
    "        ses = i.split('_')[1]\n",
    "        if sub in ses_dict.keys():\n",
    "            ses_dict[sub] = ses_dict[sub]+1\n",
    "        else: ses_dict[sub] = 1\n",
    "    \n",
    "    for a in df['ID']:\n",
    "        sub = a.split('_')[0]\n",
    "        ses_dict2[a] = ses_dict[sub]    \n",
    "\n",
    "    return ses_dict2"
   ]
  },
  {
   "cell_type": "code",
   "execution_count": 4,
   "metadata": {},
   "outputs": [],
   "source": [
    "def time_ext (df):\n",
    "    cols = []    \n",
    "    for col in df.columns:\n",
    "        if col.split('_')[-1] == 'Start Time':\n",
    "            cols.append(col)\n",
    "        else: pass\n",
    "    cols.insert(0,'ID')        \n",
    "    return df[cols]"
   ]
  },
  {
   "cell_type": "code",
   "execution_count": 5,
   "metadata": {},
   "outputs": [],
   "source": [
    "def as_ext(df):\n",
    "    cols = []\n",
    "    for col in df.columns:\n",
    "        if \"AnxScr\" in col.split('_'):        \n",
    "            cols.append(col)\n",
    "        else: pass\n",
    "    cols.insert(0,'ID')\n",
    "    return df[cols]"
   ]
  },
  {
   "cell_type": "code",
   "execution_count": 6,
   "metadata": {},
   "outputs": [],
   "source": [
    "def hrv_result(df):\n",
    "    cols = []\n",
    "    for col in df.columns:\n",
    "        if \"Result\" in col.split('_'):\n",
    "            cols.append(col)\n",
    "        else: pass\n",
    "    cols.insert(0,'ID')\n",
    "    return df[cols]"
   ]
  },
  {
   "cell_type": "code",
   "execution_count": 7,
   "metadata": {},
   "outputs": [],
   "source": [
    "def crf_ext(df,ses):\n",
    "    cols = []\n",
    "    for col in df.columns:\n",
    "        if ses in col.split('_'):\n",
    "            cols.append(col)\n",
    "        else:pass\n",
    "    cols.insert(0,'ID')\n",
    "    locals()['ses_{}_crf'.format(ses.split('-')[-1])] = df[cols]\n",
    "    return locals()['ses_{}_crf'.format(ses.split('-')[-1])]"
   ]
  },
  {
   "cell_type": "code",
   "execution_count": 8,
   "metadata": {},
   "outputs": [],
   "source": [
    "def demo_ext(df,ses):\n",
    "    cols = []\n",
    "    if '_'.join([ses,'enroll_d_y']) in df.columns:\n",
    "        demo_start = df.columns.get_loc('_'.join([ses,'enroll_d_y']))\n",
    "    else: demo_start = df.columns.get_loc('_'.join([ses,'enroll_d']))\n",
    "    demo_last = df.columns.get_loc('_'.join([ses,'alcohol4']))\n",
    "    cols = list(df.columns[demo_start:demo_last])\n",
    "    cols.insert(0,'ID')\n",
    "    return df[cols]\n"
   ]
  },
  {
   "cell_type": "code",
   "execution_count": 9,
   "metadata": {},
   "outputs": [],
   "source": [
    "def extractor(df):\n",
    "    session = ['ses-01','ses-02','ses-03','ses-04']\n",
    "    extracted = {}\n",
    "    for i in session:               \n",
    "        ses = df.loc[df['ID'].str.contains(i),:]        \n",
    "        demo = demo_ext(ses,i)\n",
    "        anxscr = as_ext(ses)\n",
    "        hrv = hrv_result(ses)\n",
    "        time = time_ext(ses)\n",
    "        crf = crf_ext(ses,i)\n",
    "        anxscr = anxscr.loc[:,anxscr.notnull().any()]\n",
    "        hrv = hrv.loc[:,hrv.notnull().any()]\n",
    "        time = time.loc[:,time.notnull().any()]\n",
    "        crf = crf.loc[:,crf.notnull().any()]\n",
    "        extracted[i] = [demo, anxscr,hrv, time,crf]\n",
    "    return extracted\n",
    "\n",
    "  "
   ]
  },
  {
   "cell_type": "code",
   "execution_count": 10,
   "metadata": {},
   "outputs": [],
   "source": [
    "extracted = extractor(total)\n",
    "with open('vrabes_extracted.pkl','wb') as f:\n",
    "    pickle.dump(extracted,f)  "
   ]
  }
 ],
 "metadata": {
  "kernelspec": {
   "display_name": "main",
   "language": "python",
   "name": "python3"
  },
  "language_info": {
   "codemirror_mode": {
    "name": "ipython",
    "version": 3
   },
   "file_extension": ".py",
   "mimetype": "text/x-python",
   "name": "python",
   "nbconvert_exporter": "python",
   "pygments_lexer": "ipython3",
   "version": "3.9.15"
  },
  "orig_nbformat": 4,
  "vscode": {
   "interpreter": {
    "hash": "eeee73005f2d7c442ce01edc53b42ba7e639fc43199e10e3461fac3e3675672b"
   }
  }
 },
 "nbformat": 4,
 "nbformat_minor": 2
}
