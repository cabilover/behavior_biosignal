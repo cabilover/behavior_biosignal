{
 "cells": [
  {
   "cell_type": "code",
   "execution_count": 1,
   "metadata": {},
   "outputs": [],
   "source": [
    "import pandas as pd\n",
    "import numpy\n",
    "import pickle\n"
   ]
  },
  {
   "cell_type": "code",
   "execution_count": 39,
   "metadata": {},
   "outputs": [],
   "source": [
    "with open('vrabes_beh_dict.pkl','rb') as f:\n",
    "    data = pickle.load(f)\n",
    "raw_df = pd.DataFrame(data).transpose()"
   ]
  },
  {
   "cell_type": "code",
   "execution_count": 49,
   "metadata": {},
   "outputs": [],
   "source": [
    "def ses_per_sub (raw_df):        \n",
    "    ses_dict = {}\n",
    "    ses_dict2 = {}\n",
    "    for i in raw_df.index:\n",
    "        sub = i.split('_')[0]\n",
    "        ses = i.split('_')[1]\n",
    "        if sub in ses_dict.keys():\n",
    "            ses_dict[sub] = ses_dict[sub]+1\n",
    "        else: ses_dict[sub] = 1\n",
    "    \n",
    "    for a in raw_df.index:\n",
    "        sub = a.split('_')[0]\n",
    "        ses_dict2[a] = ses_dict[sub]    \n",
    "\n",
    "    return ses_dict2"
   ]
  },
  {
   "cell_type": "code",
   "execution_count": 51,
   "metadata": {},
   "outputs": [],
   "source": [
    "def time_ext (raw_df):\n",
    "    cols = []    \n",
    "    for col in raw_df.columns:\n",
    "        if col.split('_')[-1] == 'Start Time':\n",
    "            cols.append(col)\n",
    "        else: pass\n",
    "    return cols "
   ]
  },
  {
   "cell_type": "code",
   "execution_count": 54,
   "metadata": {},
   "outputs": [],
   "source": [
    "def as_ext(raw_df):\n",
    "    cols = []\n",
    "    for col in raw_df.columns:\n",
    "        if \"AnxScr\" in col.split('_'):\n",
    "            cols.append(col)\n",
    "        else: pass\n",
    "    return cols"
   ]
  },
  {
   "cell_type": "code",
   "execution_count": 57,
   "metadata": {},
   "outputs": [],
   "source": [
    "def hrv_result(raw_df):\n",
    "    cols = []\n",
    "    for col in raw_df.columns:\n",
    "        if \"Result\" in col.split('_'):\n",
    "            cols.append(col)\n",
    "        else: pass\n",
    "    return cols"
   ]
  }
 ],
 "metadata": {
  "kernelspec": {
   "display_name": "main",
   "language": "python",
   "name": "python3"
  },
  "language_info": {
   "codemirror_mode": {
    "name": "ipython",
    "version": 3
   },
   "file_extension": ".py",
   "mimetype": "text/x-python",
   "name": "python",
   "nbconvert_exporter": "python",
   "pygments_lexer": "ipython3",
   "version": "3.9.15"
  },
  "orig_nbformat": 4,
  "vscode": {
   "interpreter": {
    "hash": "eeee73005f2d7c442ce01edc53b42ba7e639fc43199e10e3461fac3e3675672b"
   }
  }
 },
 "nbformat": 4,
 "nbformat_minor": 2
}
